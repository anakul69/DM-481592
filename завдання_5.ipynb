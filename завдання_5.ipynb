{
 "cells": [
  {
   "cell_type": "markdown",
   "id": "informational-essex",
   "metadata": {},
   "source": [
    "# ЗАВДАННЯ № 5\n",
    "\n",
    "\n",
    "__Вимоги до виконання роботи__:\n",
    "\n",
    "- _комп'ютер з встановленим Windows, Linux або Mac OS X_\n",
    "- _проінстальований пакет [Anaconda](https://www.anaconda.com/products/individual)_\n",
    "- _підключення до Інтернет_\n",
    "- *в роботі використовувати можливості бібліотек Pandas, BeautifullSoup*\n",
    "\n",
    "Вилучити з сторінки [викладацького складу кафедри Комп'ютерних наук](https://knute.edu.ua/blog/read/?pid=39579&uk) список та атрибути викладачів та представити їх у вигляді таблиці:\n",
    "\n",
    "| Прізвище | Позада | URL деталізації\n",
    "|:------|:-------|:---------------\n",
    "<img width=100/>|<img width=150/>|<img width=150/>\n",
    "| ПУРСЬКИЙ ОЛЕГ ІВАНОВИЧ | завідувач кафедри |https://knute.edu.ua/blog/read/?pid=39585&uk\n",
    "|КРАСКЕВИЧ ВАЛЕРІЙ ЄВГЕНОВИЧ| професор|https://knute.edu.ua/blog/read/?pid=39585&uk\n",
    "__. . .__ | |\n"
   ]
  },
  {
   "cell_type": "markdown",
   "id": "16f1cc5f",
   "metadata": {},
   "source": [
    "### Рішення повинно бути нижче"
   ]
  },
  {
   "cell_type": "code",
   "execution_count": null,
   "id": "ea78cf6b",
   "metadata": {},
   "outputs": [],
   "source": []
  }
 ],
 "metadata": {
  "kernelspec": {
   "display_name": "Python 3",
   "language": "python",
   "name": "python3"
  },
  "language_info": {
   "codemirror_mode": {
    "name": "ipython",
    "version": 3
   },
   "file_extension": ".py",
   "mimetype": "text/x-python",
   "name": "python",
   "nbconvert_exporter": "python",
   "pygments_lexer": "ipython3",
   "version": "3.9.4"
  }
 },
 "nbformat": 4,
 "nbformat_minor": 5
}
